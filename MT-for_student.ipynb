{
 "cells": [
  {
   "cell_type": "markdown",
   "metadata": {
    "ExecuteTime": {
     "end_time": "2021-12-09T21:35:44.929824Z",
     "start_time": "2021-12-09T21:35:44.925767Z"
    }
   },
   "source": [
    "Exercise : MT Inversion\\\n",
    "Class    : Physics for Geosystems (M.Sc. Track GeoEnergy Engineering)\n",
    "\n",
    "Department of Geoscience and Engineering\\\n",
    "Delft University and Technology\n",
    "\n",
    "\n",
    "Created by La Ode Marzujriban Masfara © : l.o.m.masfara@tudelft.nl"
   ]
  },
  {
   "cell_type": "code",
   "execution_count": 2,
   "metadata": {
    "ExecuteTime": {
     "end_time": "2021-12-15T15:06:25.041421Z",
     "start_time": "2021-12-15T15:06:25.012389Z"
    },
    "code_folding": [
     0
    ]
   },
   "outputs": [],
   "source": [
    "#load all necessary packages\n",
    "import numpy.matlib\n",
    "import matplotlib.pyplot as plt\n",
    "import numpy as np \n",
    "from decimal import Decimal\n",
    "import warnings\n",
    "warnings.filterwarnings(\"ignore\")"
   ]
  },
  {
   "cell_type": "markdown",
   "metadata": {},
   "source": [
    "# Problem setup"
   ]
  },
  {
   "cell_type": "markdown",
   "metadata": {
    "ExecuteTime": {
     "end_time": "2021-12-09T21:37:41.350653Z",
     "start_time": "2021-12-09T21:37:41.213725Z"
    },
    "code_folding": []
   },
   "source": [
    "In this notebook, you are asked to do forward modeling for a specific MT and use the generated data to get the MT back using the full-waveform inversion technique. As discussed in the lecture, to model seismograms from specific MT, we must compute Green's functions beforehand to generate elementary seismograms. For this exercise, we assume that the elementary seismograms are known. The source location and receivers of these elementary seismograms are depicted in the figure below. The red star represents the source location, and each of the white triangles corresponds to the location of the receivers. In short, you are asked to do the following steps:\n",
    "\n",
    "1. Create functions to convert from expansion coefficient __a__ to __M__ and vice versa. \n",
    "2. Define matrix __M__ for a strike-slip fault movement and use the function you create in step 1 to get the corresponding __a__. \n",
    "3. Next, use what you obtain from step 2 to generate the affiliated seismograms and plot them in the notebook. \n",
    "4. Now, define a random __M__ and use it to generate seismograms.\n",
    "5. Set up your inverse problem.\n",
    "6. Use the seismograms you obtain from step 4 to invert for your pre-defined __M__.\n",
    "\n",
    "\n",
    "bonus points:\n",
    "Generate random noise and use them to corrupt your forward modeled data and use it for the inversion. Discuss what you observe. \n",
    "\n",
    "7. Summarize what you have done in the summary tab (#7). Particularly for step 3, discuss what you observe in the seismogram first-arrival polarities and elaborate on why you get the corresponding polarities. \n",
    "\n",
    "Save your notebook and change the file name to your name and student number (NAME_STUDENTNUMBER.ipynb)\n",
    "\n",
    "![title](studycase_001.png)"
   ]
  },
  {
   "cell_type": "markdown",
   "metadata": {},
   "source": [
    "# Load data (time array and elementary seismogram)"
   ]
  },
  {
   "cell_type": "markdown",
   "metadata": {},
   "source": [
    "Here we load the elementary seismogram given the estimated source location to each of the receivers. \n"
   ]
  },
  {
   "cell_type": "code",
   "execution_count": 3,
   "metadata": {
    "ExecuteTime": {
     "end_time": "2021-12-13T23:58:13.545731Z",
     "start_time": "2021-12-13T23:58:13.517190Z"
    },
    "code_folding": [
     0
    ]
   },
   "outputs": [],
   "source": [
    "#load elementary seismogram & time array\n",
    "elementaryseismo = np.load('elementaryseis.npy')\n",
    "timearray = np.load('timearray.npy')"
   ]
  },
  {
   "cell_type": "markdown",
   "metadata": {},
   "source": [
    "Based on the expansion coefficients, displacements can be modeled using the relation below:\n",
    "$$\n",
    "u_{i}\\left(\\mathbf{x}_{r} ; \\mathbf{x}_{a}, t\\right)=\\sum_{n=1}^{6} a_{n} S_{i}^{n}\\left(\\mathbf{x}_{r} ; \\mathbf{x}_{a}, t\\right)\n",
    "$$"
   ]
  },
  {
   "cell_type": "code",
   "execution_count": 4,
   "metadata": {
    "ExecuteTime": {
     "end_time": "2021-12-13T23:59:17.195786Z",
     "start_time": "2021-12-13T23:59:17.186669Z"
    }
   },
   "outputs": [
    {
     "data": {
      "text/plain": [
       "(6934, 6, 3, 10)"
      ]
     },
     "execution_count": 4,
     "metadata": {},
     "output_type": "execute_result"
    }
   ],
   "source": [
    "elementaryseismo.shape"
   ]
  },
  {
   "cell_type": "markdown",
   "metadata": {},
   "source": [
    "Here is the detail of the elementaryseismo array:\n",
    "\n",
    "- The first dimension corresponds to the number of samples in time (6934 sample)\n",
    "- The second dimension corresponds to elementary seismogram (1-6)\n",
    "- The third dimension is the recorded components (x,y,z)\n",
    "- The fourth dimension is the receivers (see figure in the problem setup)"
   ]
  },
  {
   "cell_type": "markdown",
   "metadata": {},
   "source": [
    "# 1 Functions AtoM & MtoA"
   ]
  },
  {
   "cell_type": "markdown",
   "metadata": {},
   "source": [
    "The following is the transfer function from A to M:\n",
    "\n",
    "\n",
    "$$\n",
    "\\mathbf{M}=\\sum_{n=1}^{6} a_{n} \\mathbf{M}^{n}=\\left(\\begin{array}{ccc}-a_{4}+a_{6} & a_{1} & a_{2} \\\\ a_{1} & -a_{5}+a_{6} & -a_{3} \\\\ a_{2} & -a_{3} & a_{4}+a_{5}+a_{6}\\end{array}\\right)\n",
    "$$"
   ]
  },
  {
   "cell_type": "code",
   "execution_count": null,
   "metadata": {},
   "outputs": [],
   "source": []
  },
  {
   "cell_type": "markdown",
   "metadata": {},
   "source": [
    "# 2 Define M for a strike-slip fault movement "
   ]
  },
  {
   "cell_type": "code",
   "execution_count": null,
   "metadata": {},
   "outputs": [],
   "source": []
  },
  {
   "cell_type": "markdown",
   "metadata": {},
   "source": [
    "# 3 Seismogram due to a strike-slip fault"
   ]
  },
  {
   "cell_type": "markdown",
   "metadata": {},
   "source": [
    "Based on the expansion coefficients, displacements can be modeled using the relation below:\n",
    "$$\n",
    "u_{i}\\left(\\mathbf{x}_{r} ; \\mathbf{x}_{a}, t\\right)=\\sum_{n=1}^{6} a_{n} S_{i}^{n}\\left(\\mathbf{x}_{r} ; \\mathbf{x}_{a}, t\\right)\n",
    "$$"
   ]
  },
  {
   "cell_type": "markdown",
   "metadata": {},
   "source": [
    "Given MT matrix for the strike-slip fault movement, the focal mechanism and radiation pattern for this fault are shown in picture below:\n",
    "![title](Addition.png)\n",
    "\n",
    "As discussed in the class, the white areas in focal mechanisms represent dilatation, whereas the black areas represent compression. The center of the focal mechanism represents the epicenter. Therefore for the focal mechanism above, receivers located in the black shaded area will have positive polarity in their P-wave first arrivals and vice versa for the white shaded area. If the first-arrival polarities are not discernible, one can observe systematic polarity flips between the seismograms from receivers located in black areas against seismograms from receivers in white shaded areas as indicated by the radiation pattern. "
   ]
  },
  {
   "cell_type": "code",
   "execution_count": null,
   "metadata": {},
   "outputs": [],
   "source": []
  },
  {
   "cell_type": "markdown",
   "metadata": {},
   "source": [
    "# 4 Define a random M"
   ]
  },
  {
   "cell_type": "code",
   "execution_count": 5,
   "metadata": {
    "code_folding": [
     0
    ]
   },
   "outputs": [],
   "source": [
    "#FUNCTION gensignal will generate seismograms given expansion coefficients (A)\n",
    "def gensignal(A):\n",
    "    \n",
    "    #create container for the seismograms\n",
    "    seismogram = np.zeros((6934,3,10))\n",
    "    \n",
    "    #iterate over recorded components\n",
    "    for i in range(3):\n",
    "        \n",
    "        #iterate over receiver\n",
    "        for j in range(10):\n",
    "            \n",
    "            #take elementary\n",
    "            S = elementaryseismo[:,:,i,j]\n",
    "            \n",
    "            #remap A\n",
    "            Amatrix = numpy.matlib.repmat(A,6934,1)\n",
    "            \n",
    "            #elementwise multiplication of A and Ssum over column\n",
    "            AmultS = np.multiply(Amatrix,S)\n",
    "            \n",
    "            #now sum over column\n",
    "            AmultS = np.sum(AmultS,axis=1)\n",
    "            \n",
    "            #collect seismogram \n",
    "            seismogram[:,i,j] = AmultS\n",
    "            \n",
    "    return(seismogram)"
   ]
  },
  {
   "cell_type": "code",
   "execution_count": 6,
   "metadata": {
    "code_folding": [
     0
    ]
   },
   "outputs": [],
   "source": [
    "#random A\n",
    "# you can use functions that you have created (MtoA) to obtain the A from your random M\n",
    "A = np.array((100,500,100,-190,100,-100))"
   ]
  },
  {
   "cell_type": "code",
   "execution_count": 10,
   "metadata": {},
   "outputs": [],
   "source": [
    "#generate seismograms from random A\n",
    "#creates seismograms recorded in three components from 10 receivers.\n",
    "seismo = gensignal(A)"
   ]
  },
  {
   "cell_type": "code",
   "execution_count": 8,
   "metadata": {},
   "outputs": [
    {
     "data": {
      "text/plain": [
       "(6934, 3, 10)"
      ]
     },
     "execution_count": 8,
     "metadata": {},
     "output_type": "execute_result"
    }
   ],
   "source": [
    "seismo.shape"
   ]
  },
  {
   "cell_type": "markdown",
   "metadata": {},
   "source": [
    "# 5 Construct the Inverse problem matrices."
   ]
  },
  {
   "cell_type": "markdown",
   "metadata": {},
   "source": [
    "Here, we use the seismograms generated from the random M above as if it were (real) observed data (d$^{obs}$), which means (as if) the moment tensor is not known. Given the scenario, to obtain M, we can use a full waveform inversion technique by minimizing the difference between observed data (d$^{obs}$) and forward modeled data, Gm. G is the forward modeling operator, which is, in this case, are the elementary seismograms. Furthermore, m is the model parameter which are the expansion coefficients for our case. Accordingly, by varying m(A), any seismogram can be generated using the same G."
   ]
  },
  {
   "cell_type": "code",
   "execution_count": 11,
   "metadata": {
    "code_folding": [
     0
    ]
   },
   "outputs": [],
   "source": [
    "#we use only seismogram from one of the recording components (x) from one receiver \n",
    "G = elementaryseismo[:,:,0,0].T\n",
    "\n",
    "#seismogram of receiver 1 for x-component\n",
    "dobs = seismo[:,0,0]"
   ]
  },
  {
   "cell_type": "markdown",
   "metadata": {},
   "source": [
    "# 6 solve the Inverse problem"
   ]
  },
  {
   "cell_type": "markdown",
   "metadata": {},
   "source": [
    "Misfit function: \n",
    "$$\n",
    "\\chi(\\mathbf{m})=\\frac{1}{2}\\left(\\mathbf{d}^{\\mathrm{obs}}-\\mathbf{G m}\\right)^{T}\\left(\\mathbf{d}^{\\mathrm{obs}}-\\mathbf{G m}\\right)=\\frac{1}{2} \\sum_{i=1}^{N}\\left(d_{i}^{\\mathrm{obs}}-\\sum_{j=1}^{n} G_{i j} m_{j}\\right)^{2}\n",
    "$$\n",
    "\n",
    "the solution \n",
    "$$\n",
    "\\mathbf{m}^{\\text {est }}=\\left(\\mathbf{G}^{T} \\mathbf{G}\\right)^{-1} \\mathbf{G}^{T} \\mathbf{d}^{\\text {obs }}\n",
    "$$"
   ]
  },
  {
   "cell_type": "code",
   "execution_count": 18,
   "metadata": {
    "code_folding": [
     0
    ]
   },
   "outputs": [
    {
     "name": "stdout",
     "output_type": "stream",
     "text": [
      "estimated A =[ 100.  500.  100. -190.  100. -100.]\n",
      "true A =[ 100.  500.  100. -190.  100. -100.]\n"
     ]
    }
   ],
   "source": [
    "#estimate the A\n",
    "mest = (np.linalg.inv(G@G.T)@G)@dobs\n",
    "\n",
    "print('estimated A ='+str(mest))\n",
    "print('true A ='+str(mest))"
   ]
  },
  {
   "cell_type": "markdown",
   "metadata": {},
   "source": [
    "# 7 Summary\n",
    "put your summary here..."
   ]
  },
  {
   "cell_type": "code",
   "execution_count": null,
   "metadata": {},
   "outputs": [],
   "source": []
  }
 ],
 "metadata": {
  "kernelspec": {
   "display_name": "Python 3 (ipykernel)",
   "language": "python",
   "name": "python3"
  },
  "language_info": {
   "codemirror_mode": {
    "name": "ipython",
    "version": 3
   },
   "file_extension": ".py",
   "mimetype": "text/x-python",
   "name": "python",
   "nbconvert_exporter": "python",
   "pygments_lexer": "ipython3",
   "version": "3.9.7"
  },
  "toc": {
   "base_numbering": 1,
   "nav_menu": {},
   "number_sections": true,
   "sideBar": true,
   "skip_h1_title": false,
   "title_cell": "Table of Contents",
   "title_sidebar": "Contents",
   "toc_cell": false,
   "toc_position": {},
   "toc_section_display": true,
   "toc_window_display": false
  },
  "varInspector": {
   "cols": {
    "lenName": 16,
    "lenType": 16,
    "lenVar": 40
   },
   "kernels_config": {
    "python": {
     "delete_cmd_postfix": "",
     "delete_cmd_prefix": "del ",
     "library": "var_list.py",
     "varRefreshCmd": "print(var_dic_list())"
    },
    "r": {
     "delete_cmd_postfix": ") ",
     "delete_cmd_prefix": "rm(",
     "library": "var_list.r",
     "varRefreshCmd": "cat(var_dic_list()) "
    }
   },
   "types_to_exclude": [
    "module",
    "function",
    "builtin_function_or_method",
    "instance",
    "_Feature"
   ],
   "window_display": false
  }
 },
 "nbformat": 4,
 "nbformat_minor": 2
}
