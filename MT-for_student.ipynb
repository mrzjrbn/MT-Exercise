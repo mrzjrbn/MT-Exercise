{
 "cells": [
  {
   "cell_type": "markdown",
   "metadata": {
    "ExecuteTime": {
     "end_time": "2021-12-09T21:35:44.929824Z",
     "start_time": "2021-12-09T21:35:44.925767Z"
    }
   },
   "source": [
    "Exercise : MT Inversion\\\n",
    "Class    : Physics for Geosystems (M.Sc. Track GeoEnergy Engineering)\n",
    "\n",
    "Department of Geoscience and Engineering\\\n",
    "Delft University and Technology\n",
    "\n",
    "\n",
    "Created by La Ode Marzujriban Masfara © : l.o.m.masfara@tudelft.nl"
   ]
  },
  {
   "cell_type": "code",
   "execution_count": 6,
   "metadata": {
    "ExecuteTime": {
     "end_time": "2021-12-15T13:38:37.996535Z",
     "start_time": "2021-12-15T13:38:37.181654Z"
    },
    "code_folding": [
     0
    ]
   },
   "outputs": [],
   "source": [
    "#load all necessary packages\n",
    "import numpy.matlib\n",
    "import matplotlib.pyplot as plt\n",
    "import numpy as np \n",
    "from decimal import Decimal\n",
    "import warnings\n",
    "warnings.filterwarnings(\"ignore\")"
   ]
  },
  {
   "cell_type": "markdown",
   "metadata": {},
   "source": [
    "# Problem setup"
   ]
  },
  {
   "cell_type": "markdown",
   "metadata": {
    "ExecuteTime": {
     "end_time": "2021-12-09T21:37:41.350653Z",
     "start_time": "2021-12-09T21:37:41.213725Z"
    },
    "code_folding": []
   },
   "source": [
    "In this notebook, you are asked to do forward modeling for a specific MT and use the generated data to get the MT back using the full-waveform inversion technique. As discussed in the lecture, to model seismograms from specific MT, we must compute Green's functions beforehand to generate elementary seismograms. For this exercise, we assume that the elementary seismograms are known. The source location and receivers of these elementary seismograms are depicted in the figure below. The red star represents the source location, and each of the white triangles corresponds to the location of the receivers. In short, you are asked to do the following steps:\n",
    "\n",
    "1. Create functions to convert from expansion coefficient a to M and vice versa. \n",
    "2. Define matrix M and use the function you create in step 1 to get a. Given a from your pre-defined M, generate the corresponding seismograms and plot them in the notebook.\n",
    "3. Construct the required matrices for the forward problem (as discussed in the class).\n",
    "4. Use the output of step 3 to invert for your pre-defined M.\n",
    "5. Summarize what you have done in one cell of the notebook. Make sure you discuss the following: \n",
    "\t\n",
    "    a. Your choice of M (what does it represents geologically). \n",
    "\t\n",
    "    b. How is the amplitude of the first arrival look like on each receiver    (radiation pattern)\n",
    "\n",
    "bonus points:\n",
    "Generate random noise and use them to corrupt your forward modeled data and use it for the inversion. Discuss what you observe. \n",
    "\n",
    "6. Save your notebook and change the file name to your name and student number (NAME_STUDENTNUMBER.ipynb)\n",
    "\n",
    "\n",
    "![title](studycase_001.png)"
   ]
  },
  {
   "cell_type": "markdown",
   "metadata": {},
   "source": [
    "# Load data (time array and elementary seismogram)"
   ]
  },
  {
   "cell_type": "markdown",
   "metadata": {},
   "source": [
    "Here we load the elementary seismogram given the estimated source location to each of the receivers. \n"
   ]
  },
  {
   "cell_type": "code",
   "execution_count": 2,
   "metadata": {
    "ExecuteTime": {
     "end_time": "2021-12-13T23:58:13.545731Z",
     "start_time": "2021-12-13T23:58:13.517190Z"
    },
    "code_folding": [
     0
    ]
   },
   "outputs": [],
   "source": [
    "#load elementary seismogram & time array\n",
    "elementaryseismo = np.load('elementaryseis.npy')\n",
    "timearray = np.load('timearray.npy')"
   ]
  },
  {
   "cell_type": "code",
   "execution_count": 3,
   "metadata": {
    "ExecuteTime": {
     "end_time": "2021-12-13T23:59:17.195786Z",
     "start_time": "2021-12-13T23:59:17.186669Z"
    }
   },
   "outputs": [
    {
     "data": {
      "text/plain": [
       "(6934, 6, 3, 10)"
      ]
     },
     "execution_count": 3,
     "metadata": {},
     "output_type": "execute_result"
    }
   ],
   "source": [
    "elementaryseismo.shape"
   ]
  },
  {
   "cell_type": "markdown",
   "metadata": {},
   "source": [
    "Here is the detail of the elementaryseismo array:\n",
    "\n",
    "- The first dimension corresponds to the number of samples in time (6934 sample)\n",
    "- The second dimension corresponds to elementary seismogram (1-6)\n",
    "- The third dimension is the recorded components (x,y,z)\n",
    "- The fourth dimension is the receivers (see figure in the problem setup)"
   ]
  },
  {
   "cell_type": "markdown",
   "metadata": {},
   "source": [
    "# 1 Functions AtoM & MtoA"
   ]
  },
  {
   "cell_type": "markdown",
   "metadata": {},
   "source": [
    "The following is the transfer function from A to M:\n",
    "\n",
    "\n",
    "$$\n",
    "\\mathbf{M}=\\sum_{n=1}^{6} a_{n} \\mathbf{M}^{n}=\\left(\\begin{array}{ccc}-a_{4}+a_{6} & a_{1} & a_{2} \\\\ a_{1} & -a_{5}+a_{6} & -a_{3} \\\\ a_{2} & -a_{3} & a_{4}+a_{5}+a_{6}\\end{array}\\right)\n",
    "$$"
   ]
  },
  {
   "cell_type": "code",
   "execution_count": null,
   "metadata": {},
   "outputs": [],
   "source": []
  },
  {
   "cell_type": "markdown",
   "metadata": {},
   "source": [
    "# 2.1 Define your choice of M and compute A"
   ]
  },
  {
   "cell_type": "code",
   "execution_count": null,
   "metadata": {},
   "outputs": [],
   "source": []
  },
  {
   "cell_type": "markdown",
   "metadata": {},
   "source": [
    "Based on the expansion coefficients, displacements can be modeled using the relation below:\n",
    "$$\n",
    "u_{i}\\left(\\mathbf{x}_{r} ; \\mathbf{x}_{a}, t\\right)=\\sum_{n=1}^{6} a_{n} S_{i}^{n}\\left(\\mathbf{x}_{r} ; \\mathbf{x}_{a}, t\\right)\n",
    "$$"
   ]
  },
  {
   "cell_type": "markdown",
   "metadata": {},
   "source": [
    "# 2.2 Plot the seismogram from the pre-defined M/A"
   ]
  },
  {
   "cell_type": "code",
   "execution_count": null,
   "metadata": {},
   "outputs": [],
   "source": []
  },
  {
   "cell_type": "markdown",
   "metadata": {},
   "source": [
    "# 3 Construct the forward problem matrices"
   ]
  },
  {
   "cell_type": "code",
   "execution_count": null,
   "metadata": {},
   "outputs": [],
   "source": []
  },
  {
   "cell_type": "markdown",
   "metadata": {},
   "source": [
    "# 4 solve the Inverse problem"
   ]
  },
  {
   "cell_type": "markdown",
   "metadata": {},
   "source": [
    "Misfit function: \n",
    "$$\n",
    "\\chi(\\mathbf{m})=\\frac{1}{2}\\left(\\mathbf{d}^{\\mathrm{obs}}-\\mathbf{G m}\\right)^{T}\\left(\\mathbf{d}^{\\mathrm{obs}}-\\mathbf{G m}\\right)=\\frac{1}{2} \\sum_{i=1}^{N}\\left(d_{i}^{\\mathrm{obs}}-\\sum_{j=1}^{n} G_{i j} m_{j}\\right)^{2}\n",
    "$$\n",
    "\n",
    "the solution \n",
    "$$\n",
    "\\mathbf{m}^{\\text {est }}=\\left(\\mathbf{G}^{T} \\mathbf{G}\\right)^{-1} \\mathbf{G}^{T} \\mathbf{d}^{\\text {obs }}\n",
    "$$"
   ]
  },
  {
   "cell_type": "code",
   "execution_count": null,
   "metadata": {},
   "outputs": [],
   "source": []
  },
  {
   "cell_type": "markdown",
   "metadata": {},
   "source": [
    "# 5 Summary\n",
    "put your summary here..."
   ]
  },
  {
   "cell_type": "code",
   "execution_count": null,
   "metadata": {},
   "outputs": [],
   "source": []
  }
 ],
 "metadata": {
  "kernelspec": {
   "display_name": "Python 3",
   "language": "python",
   "name": "python3"
  },
  "language_info": {
   "codemirror_mode": {
    "name": "ipython",
    "version": 3
   },
   "file_extension": ".py",
   "mimetype": "text/x-python",
   "name": "python",
   "nbconvert_exporter": "python",
   "pygments_lexer": "ipython3",
   "version": "3.8.3"
  },
  "toc": {
   "base_numbering": 1,
   "nav_menu": {},
   "number_sections": true,
   "sideBar": true,
   "skip_h1_title": false,
   "title_cell": "Table of Contents",
   "title_sidebar": "Contents",
   "toc_cell": false,
   "toc_position": {},
   "toc_section_display": true,
   "toc_window_display": false
  },
  "varInspector": {
   "cols": {
    "lenName": 16,
    "lenType": 16,
    "lenVar": 40
   },
   "kernels_config": {
    "python": {
     "delete_cmd_postfix": "",
     "delete_cmd_prefix": "del ",
     "library": "var_list.py",
     "varRefreshCmd": "print(var_dic_list())"
    },
    "r": {
     "delete_cmd_postfix": ") ",
     "delete_cmd_prefix": "rm(",
     "library": "var_list.r",
     "varRefreshCmd": "cat(var_dic_list()) "
    }
   },
   "types_to_exclude": [
    "module",
    "function",
    "builtin_function_or_method",
    "instance",
    "_Feature"
   ],
   "window_display": false
  }
 },
 "nbformat": 4,
 "nbformat_minor": 2
}
